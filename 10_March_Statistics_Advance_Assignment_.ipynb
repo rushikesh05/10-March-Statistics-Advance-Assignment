{
  "nbformat": 4,
  "nbformat_minor": 0,
  "metadata": {
    "colab": {
      "provenance": []
    },
    "kernelspec": {
      "name": "python3",
      "display_name": "Python 3"
    },
    "language_info": {
      "name": "python"
    }
  },
  "cells": [
    {
      "cell_type": "markdown",
      "source": [
        "##Q1: What is Estimation Statistics? Explain point estimate and interval estimate.\n",
        "* Estimation statistics is a branch of statistics that helps us to estimate unknown population parameters from a sample of data. In other words, it's a way of making educated guesses about characteristics of a whole population based on a smaller sample.\n",
        "\n",
        "###There are two types of estimates in estimation statistics: point estimates and interval estimates.\n",
        "\n",
        "* A point estimate is a single value that is used to estimate the value of an unknown population parameter. For example, if we want to estimate the average height of all students in a school, we might take a sample of 50 students and calculate the mean height of that sample. This mean height is a point estimate for the population mean height.\n",
        "\n",
        "* An interval estimate is a range of values that is used to estimate the value of an unknown population parameter. For example, if we want to estimate the average income of all people in a city, we might take a sample of 1000 people and calculate the mean income of that sample. However, we cannot be sure that this sample mean is exactly equal to the population mean. Therefore, we can calculate an interval estimate, such as a confidence interval, which gives us a range of values that is likely to contain the true population mean with a certain level of confidence.\n",
        "\n",
        "* Interval estimates are generally considered more informative than point estimates because they provide a range of plausible values rather than a single value. Additionally, interval estimates are more reliable than point estimates because they take into account the random variation in the sample data."
      ],
      "metadata": {
        "id": "S6pt11RSZ-xO"
      }
    },
    {
      "cell_type": "markdown",
      "source": [
        "##Q2. Write a Python function to estimate the population mean using a sample mean and standard deviation."
      ],
      "metadata": {
        "id": "d5tzzV41anNw"
      }
    },
    {
      "cell_type": "code",
      "source": [
        "import math\n",
        "\n",
        "def estimate_population_mean(sample_mean, sample_std, sample_size, confidence_level=0.95):\n",
        "    # Calculate the standard error\n",
        "    standard_error = sample_std / math.sqrt(sample_size)\n",
        "    \n",
        "    # Calculate the margin of error using the z-score corresponding to the confidence level\n",
        "    z_score = abs(stats.norm.ppf((1 - confidence_level) / 2))\n",
        "    margin_of_error = z_score * standard_error\n",
        "    \n",
        "    # Calculate the lower and upper bounds of the confidence interval\n",
        "    lower_bound = sample_mean - margin_of_error\n",
        "    upper_bound = sample_mean + margin_of_error\n",
        "    \n",
        "    # Return the estimated population mean and the confidence interval\n",
        "    return (sample_mean, (lower_bound, upper_bound))\n"
      ],
      "metadata": {
        "id": "lAqN4GlXbXrz"
      },
      "execution_count": null,
      "outputs": []
    },
    {
      "cell_type": "markdown",
      "source": [
        "####To use this function, you can call it with the sample mean, standard deviation, and sample size as arguments, along with an optional argument for the desired confidence level (which defaults to 0.95 if not specified):"
      ],
      "metadata": {
        "id": "TIlLCK88bmy6"
      }
    },
    {
      "cell_type": "code",
      "source": [
        "import scipy.stats as stats\n",
        "\n",
        "# Example usage\n",
        "sample_mean = 50\n",
        "sample_std = 10\n",
        "sample_size = 100\n",
        "confidence_level = 0.99\n",
        "\n",
        "population_mean, confidence_interval = estimate_population_mean(sample_mean, sample_std, sample_size, confidence_level)\n",
        "print(f\"Estimated population mean: {population_mean}\")\n",
        "print(f\"Confidence interval: ({confidence_interval[0]}, {confidence_interval[1]})\")\n"
      ],
      "metadata": {
        "colab": {
          "base_uri": "https://localhost:8080/"
        },
        "id": "y5q01z2LbnQY",
        "outputId": "a5471e3a-5beb-43d1-b444-689d0913bc2f"
      },
      "execution_count": null,
      "outputs": [
        {
          "output_type": "stream",
          "name": "stdout",
          "text": [
            "Estimated population mean: 50\n",
            "Confidence interval: (47.4241706964511, 52.5758293035489)\n"
          ]
        }
      ]
    },
    {
      "cell_type": "markdown",
      "source": [
        "###The multiplier 1.96 is used because this corresponds to the 97.5th percentile of the standard normal distribution, which leaves a 2.5% probability in each tail. "
      ],
      "metadata": {
        "id": "u2KmCTM6bGUt"
      }
    },
    {
      "cell_type": "markdown",
      "source": [
        "##Q3: What is Hypothesis testing? Why is it used? State the importance of Hypothesis testing.\n",
        "\n",
        "* Hypothesis testing is a statistical method that is used to test a claim or hypothesis about a population parameter using sample data. The aim of hypothesis testing is to determine whether the observed difference between a sample statistic and a population parameter is significant or due to chance.\n",
        "\n",
        "* The null hypothesis is a statement that assumes there is no significant difference between a sample statistic and a population parameter, whereas the alternative hypothesis is a statement that contradicts the null hypothesis and suggests that there is a significant difference between the sample statistic and the population parameter.\n",
        "\n",
        "* Hypothesis testing is important because it provides an objective and systematic approach to testing a claim or hypothesis about a population parameter using sample data. It is widely used in different fields, such as science, engineering, medicine, social sciences, and business, to make informed decisions, test theories, and gain insights from data.\n",
        "\n",
        "* The significance of hypothesis testing lies in its ability to provide a logical and unbiased approach to testing a claim or hypothesis. It allows us to evaluate the evidence in favor of a particular hypothesis and make decisions based on the results of the test. Without hypothesis testing, we would be limited to making conjectures based solely on intuition or personal beliefs, which can lead to inaccurate or biased conclusions.\n",
        "\n",
        "* By using hypothesis testing, we can establish the validity of research findings and draw generalizations about a population based on sample data. It also helps to identify potential errors or biases in the research process, which can lead to improvements in future research studies. Overall, hypothesis testing is a powerful tool that enables us to draw meaningful conclusions from sample data and make informed decisions based on statistical evidence"
      ],
      "metadata": {
        "id": "Mk8AQTVecAVc"
      }
    },
    {
      "cell_type": "markdown",
      "source": [
        "##Q4. Create a hypothesis that states whether the average weight of male college students is greater than the average weight of female college students.\n",
        "#Ans:--\n",
        "\n",
        "* Null Hypothesis (H0): The average weight of male college students is equal to or less than the average weight of female college students.\n",
        "\n",
        "* Alternative Hypothesis (Ha): The average weight of male college students is greater than the average weight of female college students.\n",
        "\n",
        "###In simpler terms, the null hypothesis states that there is no significant difference in the average weight between male and female college students, while the alternative hypothesis suggests that male college students have a higher average weight than female college students."
      ],
      "metadata": {
        "id": "teJ4tVOIj8Jp"
      }
    },
    {
      "cell_type": "markdown",
      "source": [
        "##Q5. Write a Python script to conduct a hypothesis test on the difference between two population means, given a sample from each population.\n",
        "\n"
      ],
      "metadata": {
        "id": "1bX76qIlkL7N"
      }
    },
    {
      "cell_type": "code",
      "source": [
        "import numpy as np\n",
        "from scipy.stats import ttest_ind\n",
        "\n",
        "# Generate two random samples from normal distributions\n",
        "sample1 = np.random.normal(10, 2, size=100)\n",
        "sample2 = np.random.normal(12, 2, size=100)\n",
        "\n",
        "# Perform a two-sample t-test assuming unequal variances\n",
        "t_statistic, p_value = ttest_ind(sample1, sample2, equal_var=False)\n",
        "\n",
        "# Print the results\n",
        "print(\"T-Statistic:\", t_statistic)\n",
        "print(\"P-Value:\", p_value)\n",
        "\n",
        "# Set the significance level\n",
        "alpha = 0.05\n",
        "\n",
        "# Compare the p-value with the significance level and draw a conclusion\n",
        "if p_value < alpha:\n",
        "    print(\"We reject the null hypothesis and conclude that the population means are significantly different.\")\n",
        "else:\n",
        "    print(\"We fail to reject the null hypothesis and conclude that the population means are not significantly different.\")\n"
      ],
      "metadata": {
        "colab": {
          "base_uri": "https://localhost:8080/"
        },
        "id": "pyIBUKyAbBv_",
        "outputId": "cd1bd1e1-0d7f-445d-de48-ef426f6a4c6b"
      },
      "execution_count": null,
      "outputs": [
        {
          "output_type": "stream",
          "name": "stdout",
          "text": [
            "T-Statistic: -5.7677794439954155\n",
            "P-Value: 3.1229050552787205e-08\n",
            "We reject the null hypothesis and conclude that the population means are significantly different.\n"
          ]
        }
      ]
    },
    {
      "cell_type": "markdown",
      "source": [
        "##Q6: What is a null and alternative hypothesis? Give some examples.\n",
        "\n",
        "* In hypothesis testing, the null hypothesis represents the default position that there is no significant difference between the observed sample data and the population parameter. On the other hand, the alternative hypothesis is a statement that contradicts the null hypothesis and suggests that there is a significant difference between the observed sample data and the population parameter.\n",
        "\n",
        "###Here are some examples of null and alternative hypotheses:\n",
        "\n",
        "* Null Hypothesis (H0): The mean height of male and female college students is the same.\n",
        "Alternative Hypothesis (Ha): The mean height of male and female college students is different. This hypothesis test tries to find out if there is a significant difference in the mean height between male and female college students.\n",
        "\n",
        "* Null Hypothesis (H0): The new medication has no effect on reducing blood pressure.\n",
        "   * Alternative Hypothesis (Ha): The new medication significantly reduces blood pressure. This hypothesis test is used to find out if the new medication significantly reduces blood pressure.\n",
        "\n",
        "* Null Hypothesis (H0): There is no difference in the average test scores between students who received tutoring and those who did not.\n",
        "  * Alternative Hypothesis (Ha): Students who received tutoring have higher average test scores than those who did not. This hypothesis test tries to find out if tutoring has a significant impact on the average test scores of students.\n",
        "\n",
        "* Null Hypothesis (H0): The proportion of defective products produced by machine A is the same as that of machine B.\n",
        "  * Alternative Hypothesis (Ha): The proportion of defective products produced by machine A is different from that of machine B. This hypothesis test is used to determine if there is a significant difference in the proportion of defective products produced by machine A and B.\n",
        "\n",
        "* Null Hypothesis (H0): There is no correlation between IQ and academic performance.\n",
        "  * Alternative Hypothesis (Ha): There is a significant positive correlation between IQ and academic performance. This hypothesis test is used to determine if there is a significant positive correlation between IQ and academic performance."
      ],
      "metadata": {
        "id": "qRDnolQHlM6j"
      }
    },
    {
      "cell_type": "markdown",
      "source": [
        "##Q7: Write down the steps involved in hypothesis testing.\n",
        "\n",
        "###The steps involved in hypothesis testing are:\n",
        "\n",
        "* State the null and alternative hypotheses: Start by stating the null hypothesis and alternative hypothesis that are relevant to the research question.\n",
        "\n",
        "* Set the level of significance (alpha): Choose a level of significance (alpha) that will be used to determine the rejection region.\n",
        "\n",
        "* Determine the appropriate test statistic: Determine the appropriate test statistic that will be used to test the null hypothesis.\n",
        "\n",
        "* Calculate the p-value: Calculate the probability value (p-value) associated with the test statistic.\n",
        "\n",
        "* Compare the p-value with the level of significance: Compare the p-value with the level of significance. If the p-value is less than the level of significance, reject the null hypothesis; otherwise, fail to reject the null hypothesis.\n",
        "\n",
        "* Interpret the results: Interpret the results of the hypothesis test and draw conclusions based on the findings.\n",
        "\n",
        "* Conduct a power analysis: If the null hypothesis is rejected, conduct a power analysis to determine the statistical power of the test.\n",
        "\n",
        "* Report the results: Finally, report the results of the hypothesis test, including the statistical values, conclusions, and any limitations or assumptions made during the test."
      ],
      "metadata": {
        "id": "6BvkzfyIl1QP"
      }
    },
    {
      "cell_type": "markdown",
      "source": [
        "##Q8. Define p-value and explain its significance in hypothesis testing.\n",
        "\n",
        "* P-value is a term used in statistics and hypothesis testing. It represents the probability of getting a result as extreme as the one we observed, assuming that the null hypothesis is true. Basically, it tells us how likely it is that we would get our results by chance alone.\n",
        "\n",
        "* The significance of p-value is that it helps us decide whether to reject or fail to reject the null hypothesis. If the p-value is less than our significance level (usually 0.05), we reject the null hypothesis and accept the alternative hypothesis, indicating that our results are statistically significant. On the other hand, if the p-value is greater than our significance level, we fail to reject the null hypothesis and conclude that there is not enough evidence to support the alternative hypothesis.\n",
        "\n",
        "* It's important to note that p-value doesn't tell us about the practical significance or the size of the effect we're observing, it only tells us if the effect is statistically significant or not. So, we need to interpret p-values in conjunction with other measures of effect size to make informed decisions."
      ],
      "metadata": {
        "id": "VbcpGZmlKY7C"
      }
    },
    {
      "cell_type": "markdown",
      "source": [
        "##Q9. Generate a Student's t-distribution plot using Python's matplotlib library, with the degrees of freedom parameter set to 10.\n",
        "\n"
      ],
      "metadata": {
        "id": "cxtGL_42KxgH"
      }
    },
    {
      "cell_type": "code",
      "source": [
        "import numpy as np\n",
        "import matplotlib.pyplot as plt\n",
        "\n",
        "# Set the degrees of freedom\n",
        "df = 10\n",
        "\n",
        "# Generate the x-values for the t-distribution plot\n",
        "x = np.linspace(-5, 5, num=500)\n",
        "\n",
        "# Calculate the y-values for the t-distribution plot\n",
        "y = (1/(np.sqrt(df)*np.pi))*(1+((x**2)/df))**(-(df+1)/2)\n",
        "\n",
        "# Create the plot\n",
        "fig, ax = plt.subplots()\n",
        "ax.plot(x, y)\n",
        "ax.set_title(\"Student's t-distribution with 10 degrees of freedom\")\n",
        "ax.set_xlabel('x')\n",
        "ax.set_ylabel('P(x)')\n",
        "plt.show()\n"
      ],
      "metadata": {
        "id": "q1LTN0xqkcXG",
        "colab": {
          "base_uri": "https://localhost:8080/",
          "height": 295
        },
        "outputId": "753d692a-72e4-4cea-96d9-2f6830528d0c"
      },
      "execution_count": 1,
      "outputs": [
        {
          "output_type": "display_data",
          "data": {
            "text/plain": [
              "<Figure size 432x288 with 1 Axes>"
            ],
            "image/png": "[encoded data removed]"
          },
          "metadata": {
            "needs_background": "light"
          }
        }
      ]
    },
    {
      "cell_type": "markdown",
      "source": [
        "##Q10. Write a Python program to calculate the two-sample t-test for independent samples, given two random samples of equal size and a null hypothesis that the population means are equal."
      ],
      "metadata": {
        "id": "TyFIKNeYLO4I"
      }
    },
    {
      "cell_type": "code",
      "source": [
        "import numpy as np\n",
        "from scipy.stats import t\n",
        "\n",
        "# Set up the two samples\n",
        "sample1 = np.array([1, 2, 3, 4, 5])\n",
        "sample2 = np.array([6, 7, 8, 9, 10])\n",
        "\n",
        "# Calculate the means of the two samples\n",
        "mean1 = np.mean(sample1)\n",
        "mean2 = np.mean(sample2)\n",
        "\n",
        "# Calculate the sample standard deviations of the two samples\n",
        "std1 = np.std(sample1, ddof=1)\n",
        "std2 = np.std(sample2, ddof=1)\n",
        "\n",
        "# Calculate the standard error of the difference between the means\n",
        "n1 = len(sample1)\n",
        "n2 = len(sample2)\n",
        "se = np.sqrt(((std1**2)/n1) + ((std2**2)/n2))\n",
        "\n",
        "# Calculate the t-statistic\n",
        "t_stat = (mean1 - mean2) / se\n",
        "\n",
        "# Set the significance level\n",
        "alpha = 0.05\n",
        "\n",
        "# Calculate the degrees of freedom\n",
        "df = n1 + n2 - 2\n",
        "\n",
        "# Calculate the critical value\n",
        "cv = t.ppf(1 - (alpha/2), df)\n",
        "\n",
        "# Calculate the p-value\n",
        "p_val = (1 - t.cdf(abs(t_stat), df)) * 2\n",
        "\n",
        "# Print the results\n",
        "print(\"Sample 1 mean: \", mean1)\n",
        "print(\"Sample 2 mean: \", mean2)\n",
        "print(\"Standard error: \", se)\n",
        "print(\"T-statistic: \", t_stat)\n",
        "print(\"Degrees of freedom: \", df)\n",
        "print(\"Critical value: \", cv)\n",
        "print(\"P-value: \", p_val)\n",
        "\n",
        "# Determine if the null hypothesis is rejected\n",
        "if abs(t_stat) > cv or p_val < alpha:\n",
        "    print(\"Reject null hypothesis. The population means are different.\")\n",
        "else:\n",
        "    print(\"Fail to reject null hypothesis. The population means are the same.\")\n"
      ],
      "metadata": {
        "colab": {
          "base_uri": "https://localhost:8080/"
        },
        "id": "7rBmog8iK_E0",
        "outputId": "59da2dba-a8fa-43ce-ad04-b4aa0fe04990"
      },
      "execution_count": 2,
      "outputs": [
        {
          "output_type": "stream",
          "name": "stdout",
          "text": [
            "Sample 1 mean:  3.0\n",
            "Sample 2 mean:  8.0\n",
            "Standard error:  1.0\n",
            "T-statistic:  -5.0\n",
            "Degrees of freedom:  8\n",
            "Critical value:  2.3060041350333704\n",
            "P-value:  0.0010528257933664076\n",
            "Reject null hypothesis. The population means are different.\n"
          ]
        }
      ]
    },
    {
      "cell_type": "markdown",
      "source": [
        "##Q11: What is Student’s t distribution? When to use the t-Distribution.\n",
        "\n",
        "* Student’s t distribution is a probability distribution used in statistical analysis to make inferences about the population mean when the sample size is small (typically less than 30) and the population standard deviation is unknown. It has a similar shape to the standard normal distribution but has heavier tails and a flatter peak. The shape of the t-distribution depends on the sample size and the degrees of freedom (df), which is the number of observations minus one.\n",
        "\n",
        "\n",
        "* The t-distribution is commonly used in hypothesis testing when we want to test a claim about a population mean based on a small sample. It is used when the population is approximately normal or the sample size is large enough to use the central limit theorem, and we want to make inferences about the population mean based on a sample mean.\n",
        "\n",
        "* In these situations, the t-distribution allows us to calculate a range of values that the population mean is likely to fall within, given the sample mean and the sample size. It also allows us to calculate a t-statistic, which can be used to test the null hypothesis that the population mean is equal to a specific value. By using the t-distribution, we can determine whether the difference between the sample mean and the hypothesized population mean is statistically significant.\n",
        "\n",
        "\n",
        "\n",
        "\n",
        "\n"
      ],
      "metadata": {
        "id": "XOBR7dGELwg9"
      }
    },
    {
      "cell_type": "markdown",
      "source": [
        "##Q12: What is t-statistic? State the formula for t-statistic.\n",
        "\n",
        "* The t-statistic is a measure of the difference between the sample mean and the hypothesized population mean, expressed in standard error units. It is used in hypothesis testing to determine whether the difference between the sample mean and the population mean is statistically significant.\n",
        "\n",
        "##The formula for the t-statistic is:\n",
        "\n",
        "       t = (x̄ - μ) / (s / sqrt(n))\n",
        "\n",
        "      Where:\n",
        "\n",
        "      x̄ is the sample mean\n",
        "      μ is the hypothesized population mean\n",
        "      s is the sample standard deviation\n",
        "      n is the sample size\n",
        "\n",
        "      \n",
        "* The t-statistic is calculated by subtracting the hypothesized population mean from the sample mean, and then dividing by the standard error of the mean. The standard error of the mean is the standard deviation of the sampling distribution of the mean, which is calculated as the sample standard deviation divided by the square root of the sample size.\n",
        "\n",
        "* The resulting t-value can be compared to a t-distribution with n-1 degrees of freedom to determine the probability of obtaining such a difference between the sample mean and the hypothesized population mean by chance. If the probability is less than a predetermined significance level (usually 0.05), we reject the null hypothesis and conclude that the difference is statistically significant."
      ],
      "metadata": {
        "id": "fLnhYgMKMiTL"
      }
    },
    {
      "cell_type": "markdown",
      "source": [
        "##Q13. A coffee shop owner wants to estimate the average daily revenue for their shop. They take a random sample of 50 days and find the sample mean revenue to be $500  with a standard deviation of 50 dollar. Estimate the population mean revenue with a 95% confidence interval.\n",
        "\n",
        "#Ans:-\n",
        "\n",
        "###To estimate the population mean revenue with a 95% confidence interval, we can use the following formula:\n",
        "\n",
        "      Confidence interval = sample mean ± t * (standard error)\n",
        "\n",
        "Where:\n",
        "\n",
        "    sample mean = $500\n",
        "    t = the t-value with n-1 degrees of freedom for a 95% confidence level and n = 50 (from a t-distribution table or calculator, t = 2.0096)\n",
        "    standard error = standard deviation / sqrt(n) = $50 / sqrt(50) = $7.07\n",
        "    Substituting the values, we get:\n",
        "\n",
        "    Confidence interval = 500 ± 2.0096 * 7.07\n",
        "\n",
        "    Confidence interval = (485.32, 514.68)\n",
        "\n",
        "    Therefore, we can be 95% confident that the true population mean revenue for the coffee shop falls between $485.32 and $514.68 based on this sample."
      ],
      "metadata": {
        "id": "lsO6RryENLIi"
      }
    },
    {
      "cell_type": "markdown",
      "source": [
        "##Q14. A researcher hypothesizes that a new drug will decrease blood pressure by 10 mmHg. They conduct a clinical trial with 100 patients and find that the sample mean decrease in blood pressure is 8 mmHg with a standard deviation of 3 mmHg. Test the hypothesis with a significance level of 0.05.\n",
        "\n",
        "#Ans:-\n",
        "\n",
        "###To test the hypothesis that the new drug decreases blood pressure by 10 mmHg with a significance level of 0.05, we can use a one-sample t-test with the following null and alternative hypotheses:\n",
        "\n",
        "    Null hypothesis (H0): The mean decrease in blood pressure is not significantly different from 10 mmHg. (μ = 10)\n",
        "    Alternative hypothesis (Ha): The mean decrease in blood pressure is significantly less than 10 mmHg. (μ < 10)\n",
        "###We can calculate the t-statistic using the following formula:\n",
        "\n",
        "    t = (sample mean - hypothesized mean) / (standard error)\n",
        "\n",
        "###Where:\n",
        "\n",
        "    sample mean = 8 mmHg\n",
        "    hypothesized mean = 10 mmHg\n",
        "    standard error = standard deviation / sqrt(sample size) = 3 mmHg / sqrt(100) = 0.3 mmHg\n",
        "###Substituting the values, we get:\n",
        "\n",
        "    t = (8 - 10) / 0.3 = -6.67\n",
        "\n",
        "    Using a t-distribution table or calculator with 99 degrees of freedom (n-1), \n",
        "    we find that the p-value for this t-value is much less than 0.05 (e.g. p < 0.0001), \n",
        "    indicating strong evidence against the null hypothesis.\n",
        "\n",
        "    Therefore, we reject the null hypothesis and conclude that the mean decrease in blood pressure is significantly less than 10 mmHg. \n",
        "    This suggests that the new drug may be effective in reducing blood pressure"
      ],
      "metadata": {
        "id": "A8DgY_QgON2u"
      }
    },
    {
      "cell_type": "markdown",
      "source": [
        "###Q15. An electronics company produces a certain type of product with a mean weight of 5 pounds and a standard deviation of 0.5 pounds. A random sample of 25 products is taken, and the sample mean weight is found to be 4.8 pounds. Test the hypothesis that the true mean weight of the products is less than 5 pounds with a significance level of 0.01.\n",
        "\n",
        "\n",
        "#Ans:-\n",
        "\n",
        "###To test the hypothesis that the true mean weight of the products is less than 5 pounds with a significance level of 0.01, we can use a one-sample t-test with the following null and alternative hypotheses:\n",
        "\n",
        "    Null hypothesis (H0): The true mean weight of the products is not significantly less than 5 pounds. (μ >= 5)\n",
        "    Alternative hypothesis (Ha): The true mean weight of the products is significantly less than 5 pounds. (μ < 5)\n",
        "###We can calculate the t-statistic using the following formula:\n",
        "\n",
        "    t = (sample mean - hypothesized mean) / (standard error)\n",
        "\n",
        "###Where:\n",
        "\n",
        "    sample mean = 4.8 pounds\n",
        "    hypothesized mean = 5 pounds\n",
        "    standard error = standard deviation / sqrt(sample size) = 0.5 pounds / sqrt(25) = 0.1 pounds\n",
        "###Substituting the values, we get:\n",
        "\n",
        "    t = (4.8 - 5) / 0.1 = -2\n",
        "\n",
        "    Using a t-distribution table or calculator with 24 degrees of freedom (n-1), we find that the p-value for this t-value is less than 0.01 (e.g. p < 0.05), \n",
        "    indicating that we can reject the null hypothesis.\n",
        "\n",
        "       Therefore, we conclude that there is significant evidence to suggest that the true mean weight of the products is less than 5 pounds. \n",
        "       The electronics company may want to investigate whether their manufacturing process can be improved to increase the weight of the products."
      ],
      "metadata": {
        "id": "fC41Z77sPVwq"
      }
    },
    {
      "cell_type": "markdown",
      "source": [
        "###Q16. Two groups of students are given different study materials to prepare for a test. The first group (n1 = 30) has a mean score of 80 with a standard deviation of 10, and the second group (n2 = 40) has a mean score of 75 with a standard deviation of 8. Test the hypothesis that the population means for the two groups are equal with a significance level of 0.01.\n",
        "\n",
        "#Ans:-\n",
        "\n",
        "    To test the hypothesis that the population means for the two groups are equal with a significance level of 0.01, \n",
        "    we can use a two-sample t-test for independent samples with the following null and alternative hypotheses:\n",
        "\n",
        "    Null hypothesis (H0): The population means for the two groups are equal. (μ1 = μ2)\n",
        "    Alternative hypothesis (Ha): The population means for the two groups are not equal. (μ1 ≠ μ2)\n",
        "###We can calculate the pooled standard deviation using the following formula:\n",
        "\n",
        "    sp = sqrt(((n1 - 1) * s1^2 + (n2 - 1) * s2^2) / (n1 + n2 - 2))\n",
        "\n",
        "###Where:\n",
        "\n",
        "    n1 = 30 (sample size of group 1)\n",
        "    n2 = 40 (sample size of group 2)\n",
        "    s1 = 10 (standard deviation of group 1)\n",
        "    s2 = 8 (standard deviation of group 2)\n",
        "###Substituting the values, we get:\n",
        "\n",
        "    sp = sqrt(((30 - 1) * 10^2 + (40 - 1) * 8^2) / (30 + 40 - 2)) = 9.08\n",
        "\n",
        "###We can then calculate the t-statistic using the following formula:\n",
        "\n",
        "    t = (x1 - x2) / (sp * sqrt(1/n1 + 1/n2))\n",
        "\n",
        "###Where:\n",
        "\n",
        "    x1 = 80 (mean score of group 1)\n",
        "    x2 = 75 (mean score of group 2)\n",
        "    sp = 9.08 (pooled standard deviation)\n",
        "    n1 = 30 (sample size of group 1)\n",
        "    n2 = 40 (sample size of group 2)\n",
        "###Substituting the values, we get:\n",
        "\n",
        "    t = (80 - 75) / (9.08 * sqrt(1/30 + 1/40)) = 2.45\n",
        "\n",
        "    Using a t-distribution table or calculator with 68 degrees of freedom (n1 + n2 - 2), \n",
        "    we find that the critical t-value for a two-tailed test with a significance level of 0.01 is approximately ±2.61.\n",
        "\n",
        "    Since our calculated t-statistic of 2.45 falls within the range of -2.61 to 2.61, we cannot reject the null hypothesis. \n",
        "    Therefore, we conclude that there is not enough evidence to suggest that the population means for the two groups are different at a significance level of 0.01."
      ],
      "metadata": {
        "id": "nuJDakfTQPyM"
      }
    },
    {
      "cell_type": "markdown",
      "source": [
        "##Q17. A marketing company wants to estimate the average number of ads watched by viewers during a TV program. They take a random sample of 50 viewers and find that the sample mean is 4 with a standard deviation of 1.5. Estimate the population mean with a 99% confidence interval.\n",
        "\n",
        "#Ans:--\n",
        "\n",
        "###To estimate the population mean with a 99% confidence interval, we can use the following formula:\n",
        "\n",
        "    Confidence interval = sample mean ± margin of error\n",
        "\n",
        "###where the margin of error is calculated as:\n",
        "\n",
        "    margin of error = critical value * (standard deviation / sqrt(sample size))\n",
        "\n",
        "###The critical value is obtained from the t-distribution table or calculator, with the degrees of freedom (df) equal to the sample size minus 1 (df = n - 1), and the desired confidence level of 99%. For a two-tailed test, the critical value is found by taking the t-value associated with a 0.005 level of significance, which corresponds to the upper and lower 0.5% tails of the distribution.\n",
        "\n",
        "###Substituting the given values, we have:\n",
        "\n",
        "    sample size (n) = 50\n",
        "    sample mean (x̄) = 4\n",
        "    standard deviation (s) = 1.5\n",
        "    confidence level = 99%\n",
        "##First, we need to find the critical value. \n",
        "    With df = 50 - 1 = 49, the critical t-value for a two-tailed test at a 0.005 level of significance is approximately ±2.68.\n",
        "\n",
        "###Next, we can calculate the margin of error:\n",
        "\n",
        "    margin of error = 2.68 * (1.5 / sqrt(50)) = 0.62\n",
        "\n",
        "###Finally, we can calculate the confidence interval:\n",
        "\n",
        "    Confidence interval = 4 ± 0.62\n",
        "\n",
        "    The lower limit of the interval is 4 - 0.62 = 3 38, \n",
        "    and the upper limit is 4 + 0.62 = 4.62. \n",
        "    Therefore, we can say with 99% confidence that the true population mean number of ads watched by viewers during a TV program is between 3.38 and 4.62."
      ],
      "metadata": {
        "id": "bS2I9XqfUemY"
      }
    },
    {
      "cell_type": "code",
      "source": [],
      "metadata": {
        "id": "h8GnewF1Lptq"
      },
      "execution_count": null,
      "outputs": []
    }
  ]
}